{
  "nbformat": 4,
  "nbformat_minor": 0,
  "metadata": {
    "colab": {
      "provenance": []
    },
    "kernelspec": {
      "name": "python3",
      "display_name": "Python 3"
    },
    "language_info": {
      "name": "python"
    }
  },
  "cells": [
    {
      "cell_type": "code",
      "execution_count": 1,
      "metadata": {
        "id": "M8KWf4eN9nG7"
      },
      "outputs": [],
      "source": [
        "#Instalar Java 8\n",
        "!apt-get install openjdk-8-jdk-headless -qq > /dev/null"
      ]
    },
    {
      "cell_type": "code",
      "source": [
        "#Realizar o download do Spark\n",
        "!wget -q https://dlcdn.apache.org/spark/spark-3.4.3/spark-3.4.3-bin-hadoop3.tgz"
      ],
      "metadata": {
        "id": "ZDwxUvNGFsXG"
      },
      "execution_count": 2,
      "outputs": []
    },
    {
      "cell_type": "code",
      "source": [
        "!tar xf spark-3.4.3-bin-hadoop3.tgz"
      ],
      "metadata": {
        "id": "1LntGs9uOzFZ"
      },
      "execution_count": 3,
      "outputs": []
    },
    {
      "cell_type": "code",
      "source": [
        "!pip install -q findspark"
      ],
      "metadata": {
        "id": "B5iLStz2O3Jt"
      },
      "execution_count": 4,
      "outputs": []
    },
    {
      "cell_type": "code",
      "source": [
        "#Importando a biblioteca os\n",
        "import os\n",
        "#Definindo a variável de ambiente do Java\n",
        "os.environ[\"JAVA_HOME\"] = \"/usr/lib/jvm/java-8-openjdk-amd64\"\n",
        "\n",
        "#Definindo a variável de ambiente do Spark\n",
        "os.environ[\"SPARK_HOME\"] = \"/content/spark-3.4.3-bin-hadoop3\"\n",
        "\n",
        "import findspark\n",
        "\n",
        "#Iniciando o findspark\n",
        "findspark.init('spark-3.4.3-bin-hadoop3')"
      ],
      "metadata": {
        "id": "N_3ksy2bHvsS"
      },
      "execution_count": 5,
      "outputs": []
    },
    {
      "cell_type": "code",
      "source": [
        "# iniciar uma sessão local\n",
        "from pyspark.sql import SparkSession\n",
        "from pyspark.sql.types import StructType, StructField, IntegerType, StringType, FloatType, DoubleType\n",
        "import pyspark.sql.functions as F\n",
        "import time\n",
        "\n",
        "os.environ['PYARROW_IGNORE_TIMEZONE'] = '1'\n",
        "sc = SparkSession.builder.master('local[*]').config('spark.ui.port', '4050').enableHiveSupport().getOrCreate()\n",
        "spark = SparkSession(sc)\n"
      ],
      "metadata": {
        "id": "X8MiQgpKFwZD"
      },
      "execution_count": 6,
      "outputs": []
    },
    {
      "cell_type": "code",
      "source": [
        "from google.colab import drive\n",
        "drive.mount('/content/drive', force_remount=True)"
      ],
      "metadata": {
        "colab": {
          "base_uri": "https://localhost:8080/"
        },
        "id": "Vh38tpL_Hpnu",
        "outputId": "82c3a585-1127-4f08-9841-ca797a7e1006"
      },
      "execution_count": 30,
      "outputs": [
        {
          "output_type": "stream",
          "name": "stdout",
          "text": [
            "Mounted at /content/drive\n"
          ]
        }
      ]
    },
    {
      "cell_type": "code",
      "source": [
        "import pyspark.pandas as pd\n",
        "import time\n",
        "\n",
        "os.environ[\"Drive_csvs\"] = '/content/drive/MyDrive/HiveProject/csvs'\n",
        "drive_csvs_path = os.environ.get(\"Drive_csvs\")\n",
        "\n",
        "\n",
        "print(os.listdir('/content/drive/MyDrive/HiveProject/csvs/'))\n",
        "\n",
        "crime_file_path = os.path.join(drive_csvs_path,'crime.csv')\n",
        "segment_file_path = os.path.join(drive_csvs_path, 'segment.csv')\n",
        "district_file_path = os.path.join(drive_csvs_path, 'district.csv')\n",
        "vertice_file_path = os.path.join(drive_csvs_path, 'vertice.csv')\n",
        "time_file_path = os.path.join(drive_csvs_path, 'time.csv')\n",
        "neighborhood_file_path = os.path.join(drive_csvs_path, 'neighborhood.csv')"
      ],
      "metadata": {
        "colab": {
          "base_uri": "https://localhost:8080/"
        },
        "id": "0iSAmLf9Hsf9",
        "outputId": "e7ccb046-1897-4ebe-ff42-d813d21590f6"
      },
      "execution_count": 33,
      "outputs": [
        {
          "output_type": "stream",
          "name": "stdout",
          "text": [
            "['vertice.csv', 'time.csv', 'district.csv', 'neighborhood.csv', 'segment.csv', 'crime.csv']\n"
          ]
        }
      ]
    },
    {
      "cell_type": "code",
      "source": [
        "df_crime = spark.read.csv(crime_file_path, header=True, sep=';',inferSchema=True)\n",
        "df_crime.createOrReplaceTempView(\"df_crime\")\n",
        "df_crime = spark.sql(\"Select * from df_crime\")\n",
        "\n",
        "df_crime.write.saveAsTable(\"crime\", format=\"parquet\", mode=\"overwrite\")\n",
        "\n",
        "print(\"Data successfully created.\")\n"
      ],
      "metadata": {
        "colab": {
          "base_uri": "https://localhost:8080/"
        },
        "id": "9y9KT736rkW2",
        "outputId": "7844d8d7-12d3-4ad3-cea3-ff2703ecf904"
      },
      "execution_count": 34,
      "outputs": [
        {
          "output_type": "stream",
          "name": "stdout",
          "text": [
            "Data successfully created.\n"
          ]
        }
      ]
    },
    {
      "cell_type": "code",
      "source": [
        "df_segment = spark.read.csv(segment_file_path, header=True, sep=';',inferSchema=True)\n",
        "df_segment.createOrReplaceTempView(\"df_segment\")\n",
        "df_segment = spark.sql(\"Select * from df_segment\")\n",
        "\n",
        "df_segment.write.saveAsTable(\"segment\", format=\"parquet\", mode=\"overwrite\")\n",
        "\n",
        "print(\"Data successfully created.\")"
      ],
      "metadata": {
        "colab": {
          "base_uri": "https://localhost:8080/"
        },
        "id": "F3wdTq6JJ1xx",
        "outputId": "0447a501-7bf2-4972-f601-c8a7d677ebd7"
      },
      "execution_count": 35,
      "outputs": [
        {
          "output_type": "stream",
          "name": "stdout",
          "text": [
            "Data successfully created.\n"
          ]
        }
      ]
    },
    {
      "cell_type": "code",
      "source": [
        "df_district = spark.read.csv(district_file_path, header=True, sep=';',inferSchema=True)\n",
        "df_district.createOrReplaceTempView(\"df_district\")\n",
        "df_district = spark.sql(\"Select * from df_district\")\n",
        "\n",
        "df_district.write.saveAsTable(\"district\", format=\"parquet\", mode=\"overwrite\")\n",
        "\n",
        "print(\"Data successfully created.\")"
      ],
      "metadata": {
        "colab": {
          "base_uri": "https://localhost:8080/"
        },
        "outputId": "4519a183-1dc3-45f2-e691-36eeb48c9ec9",
        "id": "sBmjopk6xXCL"
      },
      "execution_count": 36,
      "outputs": [
        {
          "output_type": "stream",
          "name": "stdout",
          "text": [
            "Data successfully created.\n"
          ]
        }
      ]
    },
    {
      "cell_type": "code",
      "source": [
        "df_vertice = spark.read.csv(vertice_file_path, header=True, sep=';',inferSchema=True)\n",
        "df_vertice.createOrReplaceTempView(\"df_vertice\")\n",
        "df_vertice = spark.sql(\"Select * from df_vertice\")\n",
        "\n",
        "df_vertice.write.saveAsTable(\"vertice\", format=\"parquet\", mode=\"overwrite\")\n",
        "\n",
        "print(\"Data successfully created.\")"
      ],
      "metadata": {
        "colab": {
          "base_uri": "https://localhost:8080/"
        },
        "outputId": "5f38b240-35fe-459c-eec5-95136f985d04",
        "id": "tFV1wat_xfnp"
      },
      "execution_count": 37,
      "outputs": [
        {
          "output_type": "stream",
          "name": "stdout",
          "text": [
            "Data successfully created.\n"
          ]
        }
      ]
    },
    {
      "cell_type": "code",
      "source": [
        "df_time = spark.read.csv(time_file_path, header=True, sep=';',inferSchema=True)\n",
        "df_time.createOrReplaceTempView(\"df_time\")\n",
        "df_time = spark.sql(\"Select * from df_time\")\n",
        "\n",
        "df_time.write.saveAsTable(\"time\", format=\"parquet\", mode=\"overwrite\")\n",
        "\n",
        "print(\"Data successfully created.\")"
      ],
      "metadata": {
        "colab": {
          "base_uri": "https://localhost:8080/"
        },
        "outputId": "34c352b2-7d80-4cb5-a5c4-47e6518b0d42",
        "id": "QQ2K3e9MxnqR"
      },
      "execution_count": 38,
      "outputs": [
        {
          "output_type": "stream",
          "name": "stdout",
          "text": [
            "Data successfully created.\n"
          ]
        }
      ]
    },
    {
      "cell_type": "code",
      "source": [
        "df_neighborhood = spark.read.csv(neighborhood_file_path, header=True, sep=';',inferSchema=True)\n",
        "df_neighborhood.createOrReplaceTempView(\"df_neighborhood\")\n",
        "df_neighborhood = spark.sql(\"Select * from df_neighborhood\")\n",
        "\n",
        "df_neighborhood.write.saveAsTable(\"neighborhood\", format=\"parquet\", mode=\"overwrite\")\n",
        "\n",
        "print(\"Data successfully created.\")"
      ],
      "metadata": {
        "colab": {
          "base_uri": "https://localhost:8080/"
        },
        "outputId": "b5f36b05-4aae-4b5f-a5fc-246319a7bcbe",
        "id": "qdLYcYuGxp9x"
      },
      "execution_count": 39,
      "outputs": [
        {
          "output_type": "stream",
          "name": "stdout",
          "text": [
            "Data successfully created.\n"
          ]
        }
      ]
    },
    {
      "cell_type": "code",
      "source": [
        "start_time1 = time.time()\n",
        "query_1 = sc.sql(f\"\"\"\n",
        "SELECT\n",
        "    s.id AS segment_id,\n",
        "    SUM(c.total_feminicide) AS total_feminicide,\n",
        "    SUM(c.total_homicide) AS total_homicide,\n",
        "    SUM(c.total_felony_murder) AS total_felony_murder,\n",
        "    SUM(c.total_bodily_harm) AS total_bodily_harm,\n",
        "    SUM(c.total_theft_cellphone) AS total_theft_cellphone,\n",
        "    SUM(c.total_armed_robbery_cellphone) AS total_armed_robbery_cellphone,\n",
        "    SUM(c.total_theft_auto) AS total_theft_auto,\n",
        "    SUM(c.total_armed_robbery_auto) AS total_armed_robbery_auto,\n",
        "    s.geometry AS segment_geometry\n",
        "FROM\n",
        "    crime c\n",
        "    JOIN segment s ON c.segment_id = s.id\n",
        "    JOIN vertice v_start ON s.start_vertice_id = v_start.id\n",
        "    JOIN district d ON v_start.district_id = d.id\n",
        "    JOIN time t ON c.time_id = t.id\n",
        "WHERE\n",
        "    d.name = 'IGUATEMI'\n",
        "    AND t.year = 2016\n",
        "GROUP BY\n",
        "    s.id, s.geometry\n",
        "ORDER BY\n",
        "    s.id;\n",
        "\"\"\").show()\n",
        "elapsed_time1 = time.time() - start_time1\n",
        "\n",
        "print(f\"Elapsed Time: {elapsed_time1} seconds\")\n"
      ],
      "metadata": {
        "colab": {
          "base_uri": "https://localhost:8080/"
        },
        "id": "F7dLa6t_x969",
        "outputId": "4c285be2-0cdc-416f-8537-d8ae2cf2b94d"
      },
      "execution_count": 48,
      "outputs": [
        {
          "output_type": "stream",
          "name": "stdout",
          "text": [
            "+----------+----------------+--------------+-------------------+-----------------+---------------------+-----------------------------+----------------+------------------------+--------------------+\n",
            "|segment_id|total_feminicide|total_homicide|total_felony_murder|total_bodily_harm|total_theft_cellphone|total_armed_robbery_cellphone|total_theft_auto|total_armed_robbery_auto|    segment_geometry|\n",
            "+----------+----------------+--------------+-------------------+-----------------+---------------------+-----------------------------+----------------+------------------------+--------------------+\n",
            "|      2191|               0|             0|                  0|                0|                    0|                           10|               0|                       5|0105000020E610000...|\n",
            "|      2192|               0|             0|                  0|                0|                   10|                           15|               0|                       5|0105000020E610000...|\n",
            "|      2193|               0|             0|                  0|                0|                   10|                           35|              20|                      30|0105000020E610000...|\n",
            "|      2194|               0|             0|                  0|                0|                    5|                           10|               5|                       5|0105000020E610000...|\n",
            "|     67083|               0|             0|                  0|                0|                    0|                            0|               5|                       5|0105000020E610000...|\n",
            "|     67084|               0|             0|                  0|                0|                    0|                           20|               0|                      25|0105000020E610000...|\n",
            "|     67085|               0|             0|                  0|                0|                    0|                            5|               0|                       0|0105000020E610000...|\n",
            "|     67086|               0|             0|                  0|                0|                    0|                            0|               5|                       0|0105000020E610000...|\n",
            "|     67087|               0|             0|                  0|                0|                    0|                            5|               0|                       0|0105000020E610000...|\n",
            "|     67089|               0|             0|                  0|                0|                    0|                           10|               0|                       5|0105000020E610000...|\n",
            "|     67090|               0|             0|                  0|                0|                    0|                            5|               0|                       0|0105000020E610000...|\n",
            "|     67091|               0|             0|                  0|                0|                    0|                           10|               0|                       5|0105000020E610000...|\n",
            "|     67092|               0|             0|                  0|                0|                   10|                            5|               0|                       0|0105000020E610000...|\n",
            "|     67093|               0|             0|                  0|                0|                    0|                            5|              15|                       5|0105000020E610000...|\n",
            "|     67094|               0|             0|                  0|                0|                    0|                           10|               0|                      15|0105000020E610000...|\n",
            "|     67095|               0|             0|                  0|                0|                    0|                            0|              10|                       0|0105000020E610000...|\n",
            "|     67096|               0|             0|                  0|                0|                    0|                            5|               0|                       5|0105000020E610000...|\n",
            "|     67099|               0|             0|                  0|                0|                    0|                            0|               5|                       5|0105000020E610000...|\n",
            "|     67100|               0|             0|                  0|                0|                    0|                            5|               0|                       0|0105000020E610000...|\n",
            "|     67102|               0|             0|                  0|                0|                    0|                            5|               0|                      10|0105000020E610000...|\n",
            "+----------+----------------+--------------+-------------------+-----------------+---------------------+-----------------------------+----------------+------------------------+--------------------+\n",
            "only showing top 20 rows\n",
            "\n",
            "Elapsed Time: 21.77898097038269 seconds\n"
          ]
        }
      ]
    },
    {
      "cell_type": "code",
      "source": [
        "start_time2 = time.time()\n",
        "query_2 = sc.sql(f\"\"\"\n",
        "SELECT\n",
        "    SUM(c.total_feminicide) AS total_feminicide,\n",
        "    SUM(c.total_homicide) AS total_homicide,\n",
        "    SUM(c.total_felony_murder) AS total_felony_murder,\n",
        "    SUM(c.total_bodily_harm) AS total_bodily_harm,\n",
        "    SUM(c.total_theft_cellphone) AS total_theft_cellphone,\n",
        "    SUM(c.total_armed_robbery_cellphone) AS total_armed_robbery_cellphone,\n",
        "    SUM(c.total_theft_auto) AS total_theft_auto,\n",
        "    SUM(c.total_armed_robbery_auto) AS total_armed_robbery_auto,\n",
        "    c.segment_id,\n",
        "    s.geometry\n",
        "FROM\n",
        "    crime c\n",
        "    JOIN segment s ON c.segment_id = s.id\n",
        "    JOIN vertice v_start ON s.start_vertice_id = v_start.id\n",
        "    JOIN district d ON v_start.district_id = d.id\n",
        "    JOIN time t on c.time_id = t.id\n",
        "WHERE\n",
        "    d.name = 'IGUATEMI'\n",
        "    AND t.year BETWEEN 2006 AND 2016\n",
        "GROUP BY\n",
        "    c.segment_id, s.geometry;\n",
        "\"\"\").show()\n",
        "elapsed_time2 = time.time() - start_time2\n",
        "\n",
        "print(f\"Elapsed Time: {elapsed_time2} seconds\")"
      ],
      "metadata": {
        "colab": {
          "base_uri": "https://localhost:8080/"
        },
        "id": "2b5mvgry1mei",
        "outputId": "d7595237-603f-4d81-8b48-5b135cfc956b"
      },
      "execution_count": 53,
      "outputs": [
        {
          "output_type": "stream",
          "name": "stdout",
          "text": [
            "+----------------+--------------+-------------------+-----------------+---------------------+-----------------------------+----------------+------------------------+----------+--------------------+\n",
            "|total_feminicide|total_homicide|total_felony_murder|total_bodily_harm|total_theft_cellphone|total_armed_robbery_cellphone|total_theft_auto|total_armed_robbery_auto|segment_id|            geometry|\n",
            "+----------------+--------------+-------------------+-----------------+---------------------+-----------------------------+----------------+------------------------+----------+--------------------+\n",
            "|               0|             0|                  0|                0|                    0|                           25|               5|                      20|      2191|0105000020E610000...|\n",
            "|               0|             5|                  0|                0|                   35|                          135|              10|                     175|      2192|0105000020E610000...|\n",
            "|               0|             5|                  0|                0|                   20|                          100|              50|                      80|      2193|0105000020E610000...|\n",
            "|               0|             0|                  0|                0|                    0|                           25|              25|                      45|     67083|0105000020E610000...|\n",
            "|               0|             0|                  0|                0|                    5|                           15|              25|                      10|     67086|0105000020E610000...|\n",
            "|               0|             0|                  0|                0|                    0|                           10|               5|                      10|     67087|0105000020E610000...|\n",
            "|               0|             0|                  0|                0|                    0|                           20|               0|                       5|     67089|0105000020E610000...|\n",
            "|               0|             0|                  0|                0|                    0|                           10|               5|                      20|     67091|0105000020E610000...|\n",
            "|               0|             0|                  0|                0|                   15|                           10|               0|                      10|     67092|0105000020E610000...|\n",
            "|               0|             0|                  0|                0|                    0|                            5|              15|                       5|     67093|0105000020E610000...|\n",
            "|               0|             0|                  0|                0|                    0|                           10|              10|                      15|     67094|0105000020E610000...|\n",
            "|               0|             0|                  0|                0|                    0|                           20|               0|                      20|     67096|0105000020E610000...|\n",
            "|               0|             0|                  0|                0|                    0|                           20|              10|                      15|     67099|0105000020E610000...|\n",
            "|               0|             5|                  0|                0|                    0|                           40|               5|                      35|     67100|0105000020E610000...|\n",
            "|               0|             0|                  0|                0|                    0|                           10|               0|                      20|     67102|0105000020E610000...|\n",
            "|               0|             0|                  0|                0|                    0|                           15|              15|                      25|     67106|0105000020E610000...|\n",
            "|               0|             0|                  0|                0|                    0|                           20|               0|                      25|     67107|0105000020E610000...|\n",
            "|               0|             0|                  0|                0|                    0|                           15|              10|                       5|     67129|0105000020E610000...|\n",
            "|               0|             0|                  0|                0|                    0|                           10|               5|                      10|     67131|0105000020E610000...|\n",
            "|               0|             0|                  0|                0|                    0|                           10|               0|                      20|     67132|0105000020E610000...|\n",
            "+----------------+--------------+-------------------+-----------------+---------------------+-----------------------------+----------------+------------------------+----------+--------------------+\n",
            "only showing top 20 rows\n",
            "\n",
            "Elapsed Time: 13.126424074172974 seconds\n"
          ]
        }
      ]
    },
    {
      "cell_type": "code",
      "source": [
        "start_time3 = time.time()\n",
        "query_3 = sc.sql(f\"\"\"\n",
        "SELECT\n",
        "    SUM(c.total_theft_cellphone) AS total_theft_cellphone,\n",
        "    SUM(c.total_theft_auto) AS total_theft_auto\n",
        "FROM\n",
        "    crime c\n",
        "    JOIN segment s ON c.segment_id = s.id\n",
        "    JOIN vertice v_start ON s.start_vertice_id = v_start.id\n",
        "    JOIN neighborhood n ON v_start.neighborhood_id = n.id\n",
        "    JOIN time t ON c.time_id = t.id\n",
        "WHERE\n",
        "    n.name = 'SANTA EFIGÊNIA'\n",
        "    AND t.year = 2015;\n",
        "\"\"\").show()\n",
        "elapsed_time3 = time.time() - start_time3\n",
        "\n",
        "print(f\"Elapsed Time: {elapsed_time3} seconds\")"
      ],
      "metadata": {
        "colab": {
          "base_uri": "https://localhost:8080/"
        },
        "id": "4uBEcCmG1rRx",
        "outputId": "d3dd712d-7693-4452-e25c-4cbb216b895b"
      },
      "execution_count": 60,
      "outputs": [
        {
          "output_type": "stream",
          "name": "stdout",
          "text": [
            "+---------------------+----------------+\n",
            "|total_theft_cellphone|total_theft_auto|\n",
            "+---------------------+----------------+\n",
            "|                 null|            null|\n",
            "+---------------------+----------------+\n",
            "\n",
            "Elapsed Time: 1.8367407321929932 seconds\n"
          ]
        }
      ]
    },
    {
      "cell_type": "code",
      "source": [
        "start_time4 = time.time()\n",
        "query_4 = sc.sql(f\"\"\"\n",
        "SELECT c.total_feminicide, c.total_homicide, c.total_felony_murder, c.total_bodily_harm,\n",
        "       c.total_theft_cellphone, c.total_armed_robbery_cellphone, c.total_theft_auto, c.total_armed_robbery_auto\n",
        "FROM crime c\n",
        "JOIN segment s ON c.segment_id = s.id\n",
        "JOIN time t on c.time_id = t.id\n",
        "WHERE s.oneway = 'yes'\n",
        "  AND t.year = 2012;\n",
        "\"\"\").show()\n",
        "elapsed_time4 = time.time() - start_time4\n",
        "\n",
        "print(f\"Elapsed Time: {elapsed_time4} seconds\")"
      ],
      "metadata": {
        "colab": {
          "base_uri": "https://localhost:8080/"
        },
        "id": "zifad3BS1vcB",
        "outputId": "b0608f10-5792-4f40-9432-df78071cae7a"
      },
      "execution_count": 63,
      "outputs": [
        {
          "output_type": "stream",
          "name": "stdout",
          "text": [
            "+----------------+--------------+-------------------+-----------------+---------------------+-----------------------------+----------------+------------------------+\n",
            "|total_feminicide|total_homicide|total_felony_murder|total_bodily_harm|total_theft_cellphone|total_armed_robbery_cellphone|total_theft_auto|total_armed_robbery_auto|\n",
            "+----------------+--------------+-------------------+-----------------+---------------------+-----------------------------+----------------+------------------------+\n",
            "|               0|             0|                  0|                0|                    0|                            1|               0|                       0|\n",
            "|               0|             0|                  0|                0|                    0|                            1|               0|                       0|\n",
            "|               0|             0|                  0|                0|                    0|                            1|               0|                       0|\n",
            "|               0|             0|                  0|                0|                    0|                            1|               0|                       0|\n",
            "|               0|             0|                  0|                0|                    0|                            1|               0|                       0|\n",
            "|               0|             0|                  0|                0|                    0|                            1|               0|                       0|\n",
            "|               0|             0|                  0|                0|                    0|                            4|               0|                       0|\n",
            "|               0|             0|                  0|                0|                    0|                            1|               0|                       0|\n",
            "|               0|             0|                  0|                0|                    0|                            1|               0|                       0|\n",
            "|               0|             0|                  0|                0|                    0|                            1|               0|                       0|\n",
            "|               0|             0|                  0|                0|                    0|                            1|               0|                       0|\n",
            "|               0|             0|                  0|                0|                    0|                            1|               0|                       0|\n",
            "|               0|             0|                  0|                0|                    0|                            1|               0|                       0|\n",
            "|               0|             0|                  0|                0|                    0|                            1|               0|                       0|\n",
            "|               0|             0|                  0|                0|                    0|                            1|               0|                       0|\n",
            "|               0|             0|                  0|                0|                    0|                            1|               0|                       0|\n",
            "|               0|             0|                  0|                0|                    0|                            1|               0|                       0|\n",
            "|               0|             0|                  0|                0|                    0|                            1|               0|                       0|\n",
            "|               0|             0|                  0|                0|                    0|                            1|               0|                       0|\n",
            "|               0|             0|                  0|                0|                    0|                            1|               0|                       0|\n",
            "+----------------+--------------+-------------------+-----------------+---------------------+-----------------------------+----------------+------------------------+\n",
            "only showing top 20 rows\n",
            "\n",
            "Elapsed Time: 1.3910479545593262 seconds\n"
          ]
        }
      ]
    },
    {
      "cell_type": "code",
      "source": [
        "start_time5 = time.time()\n",
        "query_5 = sc.sql(f\"\"\"\n",
        "SELECT SUM(c.total_theft_cellphone) AS total_theft_cellphone, SUM(c.total_theft_auto) AS total_theft_auto\n",
        "FROM crime c\n",
        "JOIN segment s ON c.segment_id = s.id\n",
        "JOIN time t on c.time_id = t.id\n",
        "WHERE t.year = 2017;\n",
        "\"\"\").show()\n",
        "elapsed_time5 = time.time() - start_time5\n",
        "\n",
        "print(f\"Elapsed Time: {elapsed_time5} seconds\")"
      ],
      "metadata": {
        "colab": {
          "base_uri": "https://localhost:8080/"
        },
        "id": "b9e_0THH1v7w",
        "outputId": "ab661964-761f-440d-f62f-c5232dad5c88"
      },
      "execution_count": 65,
      "outputs": [
        {
          "output_type": "stream",
          "name": "stdout",
          "text": [
            "+---------------------+----------------+\n",
            "|total_theft_cellphone|total_theft_auto|\n",
            "+---------------------+----------------+\n",
            "|               421435|          214560|\n",
            "+---------------------+----------------+\n",
            "\n",
            "Elapsed Time: 1.6879816055297852 seconds\n"
          ]
        }
      ]
    },
    {
      "cell_type": "code",
      "source": [
        "start_time6 = time.time()\n",
        "query_6 = sc.sql(f\"\"\"\n",
        "SELECT c.segment_id, SUM(c.total_feminicide + c.total_homicide + c.total_felony_murder + c.total_bodily_harm +\n",
        "                          c.total_theft_cellphone + c.total_armed_robbery_cellphone +\n",
        "                          c.total_theft_auto + c.total_armed_robbery_auto) AS total_crimes\n",
        "FROM crime c\n",
        "JOIN time t on c.time_id = t.id\n",
        "WHERE t.month = 11 AND t.year = 2010\n",
        "GROUP BY c.segment_id\n",
        "ORDER BY total_crimes DESC;\n",
        "\"\"\").show()\n",
        "elapsed_time6 = time.time() - start_time6\n",
        "\n",
        "print(f\"Elapsed Time: {elapsed_time6} seconds\")"
      ],
      "metadata": {
        "colab": {
          "base_uri": "https://localhost:8080/"
        },
        "id": "HTtLosWv1xeB",
        "outputId": "5a71db12-4cb9-4972-b9b9-4d2521ed0458"
      },
      "execution_count": 66,
      "outputs": [
        {
          "output_type": "stream",
          "name": "stdout",
          "text": [
            "+----------+------------+\n",
            "|segment_id|total_crimes|\n",
            "+----------+------------+\n",
            "|     34854|          24|\n",
            "+----------+------------+\n",
            "\n",
            "Elapsed Time: 2.0041565895080566 seconds\n"
          ]
        }
      ]
    },
    {
      "cell_type": "code",
      "source": [
        "start_time7 = time.time()\n",
        "query_7 = sc.sql(f\"\"\"\n",
        "SELECT c.segment_id, SUM(c.total_feminicide + c.total_homicide + c.total_felony_murder + c.total_bodily_harm +\n",
        "                          c.total_theft_cellphone + c.total_armed_robbery_cellphone +\n",
        "                          c.total_theft_auto + c.total_armed_robbery_auto) AS total_crimes\n",
        "FROM crime c\n",
        "JOIN time t ON c.time_id = t.id\n",
        "WHERE t.year = 2018 AND t.weekday IN ('saturday', 'sunday')\n",
        "GROUP BY c.segment_id\n",
        "ORDER BY total_crimes DESC;\n",
        "\"\"\").show()\n",
        "elapsed_time7 = time.time() - start_time7\n",
        "\n",
        "print(f\"Elapsed Time: {elapsed_time7} seconds\")"
      ],
      "metadata": {
        "colab": {
          "base_uri": "https://localhost:8080/"
        },
        "id": "ZQN3Tm0H1xo5",
        "outputId": "c5144c77-c68c-47f4-c6a4-cb037117bebd"
      },
      "execution_count": 70,
      "outputs": [
        {
          "output_type": "stream",
          "name": "stdout",
          "text": [
            "+----------+------------+\n",
            "|segment_id|total_crimes|\n",
            "+----------+------------+\n",
            "|    160538|        1564|\n",
            "|    149515|         678|\n",
            "|    160606|         616|\n",
            "|    160607|         597|\n",
            "|    111697|         590|\n",
            "|    127455|         573|\n",
            "|    132899|         446|\n",
            "|    172841|         430|\n",
            "|    201751|         422|\n",
            "|    155778|         417|\n",
            "|    226199|         415|\n",
            "|    131081|         394|\n",
            "|    111689|         378|\n",
            "|     59483|         372|\n",
            "|    219103|         365|\n",
            "|    205851|         350|\n",
            "|    202703|         346|\n",
            "|    113146|         306|\n",
            "|     22731|         300|\n",
            "|    114926|         286|\n",
            "+----------+------------+\n",
            "only showing top 20 rows\n",
            "\n",
            "Elapsed Time: 1.1925725936889648 seconds\n"
          ]
        }
      ]
    },
    {
      "cell_type": "code",
      "source": [
        "print(f\"\"\"\n",
        "\n",
        "Tempo de cada consulta:\n",
        "\n",
        "1){elapsed_time1}\n",
        "2){elapsed_time2}\n",
        "3){elapsed_time3}\n",
        "4){elapsed_time4}\n",
        "5){elapsed_time5}\n",
        "6){elapsed_time6}\n",
        "7){elapsed_time7}\n",
        "\n",
        "tempo total: {elapsed_time1 + elapsed_time2 + elapsed_time3 + elapsed_time4 + elapsed_time5 + elapsed_time6 + elapsed_time7} segundos\n",
        "\"\"\")"
      ],
      "metadata": {
        "colab": {
          "base_uri": "https://localhost:8080/"
        },
        "collapsed": true,
        "id": "qHbsuojo3q8t",
        "outputId": "8e4b5651-7855-4e57-8b41-20f3c897a755"
      },
      "execution_count": 71,
      "outputs": [
        {
          "output_type": "stream",
          "name": "stdout",
          "text": [
            "\n",
            "\n",
            "Tempo de cada consulta:\n",
            "\n",
            "1)21.77898097038269\n",
            "2)13.126424074172974\n",
            "3)1.8367407321929932\n",
            "4)1.3910479545593262\n",
            "5)1.6879816055297852\n",
            "6)2.0041565895080566\n",
            "7)1.1925725936889648\n",
            "\n",
            "tempo total: 43.01790452003479\n",
            "\n"
          ]
        }
      ]
    },
    {
      "cell_type": "code",
      "source": [
        "import concurrent.futures\n",
        "import threading\n",
        "import time\n",
        "\n",
        "# Define your queries\n",
        "query_1 = '''SELECT\n",
        "    s.id AS segment_id,\n",
        "    SUM(c.total_feminicide) AS total_feminicide,\n",
        "    SUM(c.total_homicide) AS total_homicide,\n",
        "    SUM(c.total_felony_murder) AS total_felony_murder,\n",
        "    SUM(c.total_bodily_harm) AS total_bodily_harm,\n",
        "    SUM(c.total_theft_cellphone) AS total_theft_cellphone,\n",
        "    SUM(c.total_armed_robbery_cellphone) AS total_armed_robbery_cellphone,\n",
        "    SUM(c.total_theft_auto) AS total_theft_auto,\n",
        "    SUM(c.total_armed_robbery_auto) AS total_armed_robbery_auto,\n",
        "    s.geometry AS segment_geometry\n",
        "FROM\n",
        "    crime c\n",
        "    JOIN segment s ON c.segment_id = s.id\n",
        "    JOIN vertice v_start ON s.start_vertice_id = v_start.id\n",
        "    JOIN district d ON v_start.district_id = d.id\n",
        "    JOIN time t ON c.time_id = t.id\n",
        "WHERE\n",
        "    d.name = 'IGUATEMI'\n",
        "    AND t.year = 2016\n",
        "GROUP BY\n",
        "    s.id, s.geometry\n",
        "ORDER BY\n",
        "    s.id;'''\n",
        "query_2 = \"\"\"\n",
        "SELECT\n",
        "    SUM(c.total_feminicide) AS total_feminicide,\n",
        "    SUM(c.total_homicide) AS total_homicide,\n",
        "    SUM(c.total_felony_murder) AS total_felony_murder,\n",
        "    SUM(c.total_bodily_harm) AS total_bodily_harm,\n",
        "    SUM(c.total_theft_cellphone) AS total_theft_cellphone,\n",
        "    SUM(c.total_armed_robbery_cellphone) AS total_armed_robbery_cellphone,\n",
        "    SUM(c.total_theft_auto) AS total_theft_auto,\n",
        "    SUM(c.total_armed_robbery_auto) AS total_armed_robbery_auto,\n",
        "    c.segment_id,\n",
        "    s.geometry\n",
        "FROM\n",
        "    crime c\n",
        "    JOIN segment s ON c.segment_id = s.id\n",
        "    JOIN vertice v_start ON s.start_vertice_id = v_start.id\n",
        "    JOIN district d ON v_start.district_id = d.id\n",
        "    JOIN time t on c.time_id = t.id\n",
        "WHERE\n",
        "    d.name = 'IGUATEMI'\n",
        "    AND t.year BETWEEN 2006 AND 2016\n",
        "GROUP BY\n",
        "    c.segment_id, s.geometry;\n",
        "\"\"\"\n",
        "query_3 = \"\"\"\n",
        "SELECT\n",
        "    SUM(c.total_theft_cellphone) AS total_theft_cellphone,\n",
        "    SUM(c.total_theft_auto) AS total_theft_auto\n",
        "FROM\n",
        "    crime c\n",
        "    JOIN segment s ON c.segment_id = s.id\n",
        "    JOIN vertice v_start ON s.start_vertice_id = v_start.id\n",
        "    JOIN neighborhood n ON v_start.neighborhood_id = n.id\n",
        "    JOIN time t ON c.time_id = t.id\n",
        "WHERE\n",
        "    n.name = 'SANTA EFIGÊNIA'\n",
        "    AND t.year = 2015;\n",
        "\"\"\"\n",
        "query_4 = \"\"\"\n",
        "SELECT c.total_feminicide, c.total_homicide, c.total_felony_murder, c.total_bodily_harm,\n",
        "       c.total_theft_cellphone, c.total_armed_robbery_cellphone, c.total_theft_auto, c.total_armed_robbery_auto\n",
        "FROM crime c\n",
        "JOIN segment s ON c.segment_id = s.id\n",
        "JOIN time t on c.time_id = t.id\n",
        "WHERE s.oneway = 'yes'\n",
        "  AND t.year = 2012;\n",
        "\"\"\"\n",
        "query_5 = \"\"\"\n",
        "SELECT SUM(c.total_theft_cellphone) AS total_theft_cellphone, SUM(c.total_theft_auto) AS total_theft_auto\n",
        "FROM crime c\n",
        "JOIN segment s ON c.segment_id = s.id\n",
        "JOIN time t on c.time_id = t.id\n",
        "WHERE t.year = 2017;\n",
        "\"\"\"\n",
        "query_6 = \"\"\"\n",
        "SELECT c.segment_id, SUM(c.total_feminicide + c.total_homicide + c.total_felony_murder + c.total_bodily_harm +\n",
        "                          c.total_theft_cellphone + c.total_armed_robbery_cellphone +\n",
        "                          c.total_theft_auto + c.total_armed_robbery_auto) AS total_crimes\n",
        "FROM crime c\n",
        "JOIN time t on c.time_id = t.id\n",
        "WHERE t.month = 11 AND t.year = 2010\n",
        "GROUP BY c.segment_id\n",
        "ORDER BY total_crimes DESC;\n",
        "\"\"\"\n",
        "query_7 = \"\"\"\n",
        "SELECT c.segment_id, SUM(c.total_feminicide + c.total_homicide + c.total_felony_murder + c.total_bodily_harm +\n",
        "                          c.total_theft_cellphone + c.total_armed_robbery_cellphone +\n",
        "                          c.total_theft_auto + c.total_armed_robbery_auto) AS total_crimes\n",
        "FROM crime c\n",
        "JOIN time t ON c.time_id = t.id\n",
        "WHERE t.year = 2018 AND t.weekday IN ('saturday', 'sunday')\n",
        "GROUP BY c.segment_id\n",
        "ORDER BY total_crimes DESC;\n",
        "\"\"\"\n",
        "querys = [\n",
        "    ('query1', query_1),\n",
        "    ('query2', query_2),\n",
        "    ('query3', query_3),\n",
        "    ('query4', query_4),\n",
        "    ('query5', query_5),\n",
        "    ('query6', query_6),\n",
        "    ('query7', query_7)\n",
        "]\n",
        "\n",
        "# Initialize the total timer and lock\n",
        "total_timer_paralel = 0\n",
        "total_timer_lock = threading.Lock()\n",
        "\n",
        "# Function to execute a query and update the total timer\n",
        "def execute_query(query_id, query_string):\n",
        "    global total_timer_paralel\n",
        "    start_time = time.time()\n",
        "    try:\n",
        "        result_df = spark.sql(query_string)\n",
        "        execution_time = time.time() - start_time\n",
        "        with total_timer_lock:\n",
        "            total_timer_paralel += execution_time\n",
        "        print(f\"Query {query_id} completed successfully in {execution_time} seconds.\")\n",
        "    except Exception as e:\n",
        "        print(f\"Error executing query {query_id}: {e}\")\n",
        "\n",
        "# Create an executor pool with a limited number of threads (adjust as needed)\n",
        "executor = concurrent.futures.ThreadPoolExecutor(max_workers=4)\n",
        "\n",
        "# Submit each query to the executor pool for asynchronous execution\n",
        "future_to_query = {}\n",
        "for query_id, query_string in querys:\n",
        "    future = executor.submit(execute_query, query_id, query_string)\n",
        "    future_to_query[future] = query_id\n",
        "\n",
        "# Wait for all queries to complete\n",
        "for future in concurrent.futures.as_completed(future_to_query):\n",
        "    query_id = future_to_query[future]\n",
        "    try:\n",
        "        future.result()\n",
        "    except Exception as e:\n",
        "        print(f\"Error executing query {query_id}: {e}\")\n",
        "\n",
        "print(f\"Total parallel execution time: {total_timer_paralel} seconds.\")\n"
      ],
      "metadata": {
        "colab": {
          "base_uri": "https://localhost:8080/"
        },
        "id": "s1Gd_JJ86hnK",
        "outputId": "0ad6012b-2636-4bb0-a64a-11e76546f49a"
      },
      "execution_count": 79,
      "outputs": [
        {
          "output_type": "stream",
          "name": "stdout",
          "text": [
            "Query query4 completed successfully in 0.7937121391296387 seconds.\n",
            "Query query2 completed successfully in 0.8852601051330566 seconds.\n",
            "Query query3 completed successfully in 0.984917163848877 seconds.\n",
            "Query query1 completed successfully in 1.1049091815948486 seconds.\n",
            "Query query6 completed successfully in 0.26279139518737793 seconds.\n",
            "Query query5 completed successfully in 0.38533759117126465 seconds.\n",
            "Query query7 completed successfully in 0.1967928409576416 seconds.\n",
            "Total parallel execution time: 4.613720417022705 seconds.\n"
          ]
        }
      ]
    }
  ]
}